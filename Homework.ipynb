{
 "cells": [
  {
   "cell_type": "code",
   "execution_count": 1,
   "id": "c6f4b02a",
   "metadata": {},
   "outputs": [],
   "source": [
    "import numpy as np\n",
    "\n",
    "X = np.array([[np.nan, np.nan, 5, 3, np.nan, 5, 7, np.nan, 9, np.nan],\n",
    "              [8, 9, np.nan, 1, 4, 5, np.nan, 5, np.nan, 5],\n",
    "              [np.nan,4,9,8,7,2,4,1,1,np.nan],\n",
    "              [7,8,7,2,4,1,np.nan,np.nan,np.nan,np.nan],\n",
    "              [1,np.nan,np.nan,np.nan,np.nan,np.nan,np.nan,np.nan,np.nan,np.nan]])\n",
    "\n",
    "M,N = X.shape\n",
    "locf_out = np.zeros((M,N))\n",
    "\n",
    "for i in range(0,M):\n",
    "    for j in range(0,N):\n",
    "        if not np.isnan(X[i,j]):\n",
    "            locf_out[i,j] = X[i,j]\n",
    "        elif j == 0:\n",
    "            locf_out[i,j] = 0\n",
    "        else:\n",
    "            locf_out[i,j] = locf_out[i,j-1]"
   ]
  },
  {
   "cell_type": "code",
   "execution_count": 2,
   "id": "fc704e7f",
   "metadata": {},
   "outputs": [],
   "source": [
    "#NOCB\n",
    "X = np.array([[np.nan, np.nan, 5, 3, np.nan, 5, 7, np.nan, 9, np.nan],\n",
    "              [8, 9, np.nan, 1, 4, 5, np.nan, 5, np.nan, 5],\n",
    "              [np.nan,4,9,8,7,2,4,1,1,np.nan],\n",
    "              [7,8,7,2,4,1,np.nan,np.nan,np.nan,np.nan],\n",
    "              [1,np.nan,np.nan,np.nan,np.nan,np.nan,np.nan,np.nan,np.nan,np.nan]])\n",
    "\n",
    "M,N = X.shape\n",
    "nocb_out = np.zeros((M,N))\n",
    "\n",
    "\n"
   ]
  },
  {
   "cell_type": "code",
   "execution_count": null,
   "id": "fb20120a",
   "metadata": {},
   "outputs": [],
   "source": [
    "#linear Interpolation\n",
    "X = np.array([[np.nan, np.nan, 5, 3, np.nan, 5, 7, np.nan, 9, np.nan],\n",
    "              [8, 9, np.nan, 1, 4, 5, np.nan, 5, np.nan, 5],\n",
    "              [np.nan,4,9,8,7,2,4,1,1,np.nan],\n",
    "              [7,8,7,2,4,1,np.nan,np.nan,np.nan,np.nan],\n",
    "              [1,np.nan,np.nan,np.nan,np.nan,np.nan,np.nan,np.nan,np.nan,np.nan]])\n",
    "\n",
    "M,N = X.shape\n",
    "Li_out = np.zeros((M,N))\n"
   ]
  }
 ],
 "metadata": {
  "kernelspec": {
   "display_name": "Python 3 (ipykernel)",
   "language": "python",
   "name": "python3"
  },
  "language_info": {
   "codemirror_mode": {
    "name": "ipython",
    "version": 3
   },
   "file_extension": ".py",
   "mimetype": "text/x-python",
   "name": "python",
   "nbconvert_exporter": "python",
   "pygments_lexer": "ipython3",
   "version": "3.10.9"
  }
 },
 "nbformat": 4,
 "nbformat_minor": 5
}
